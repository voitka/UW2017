{
 "cells": [
  {
   "cell_type": "markdown",
   "metadata": {},
   "source": [
    "# Young people preferences. \n",
    "\n",
    "In this work I would like to explore young people preferences. I use young people survey responses.csv with 150 answers from 1010 students and their friends. \n",
    "\n",
    "This work consists of three parts: \n",
    "\n",
    "- **Healthy habits visualization and exploring the correlations with other factors.**\n",
    "- **Is there any correlation between left/right handed people and there scare? **\n",
    "- **Model to predict gender of the responser.**\n",
    "\n",
    "I use following libraries for this work: \n",
    "- e1071\n",
    "- ggplot2\n",
    "- car\n",
    "- HistData\n",
    "- resample\n",
    "- simpleboot\n",
    "- gridExtra\n",
    "\n",
    "The code below includes helper functions and the code loading and preparing data."
   ]
  },
  {
   "cell_type": "code",
   "execution_count": 1,
   "metadata": {
    "collapsed": true
   },
   "outputs": [],
   "source": [
    "plot.dists <- function(a, b, cols = c('pop_A', 'pop_B'), nbins = 20){\n",
    "  dat = c(a,b)\n",
    "  maxs = max(dat, na.rm = TRUE)\n",
    "  mins = min(dat, na.rm = TRUE)\n",
    "  breaks = seq(maxs, mins, length.out = (nbins + 1))\n",
    "  par(mfrow = c(2, 1))\n",
    "  hist(a, breaks = breaks, main = paste('Histogram of', cols[1]), xlab = cols[1])\n",
    "  abline(v = mean(a), lwd = 4, col = 'red')\n",
    "  mean(a)\n",
    "  mean(b)\n",
    "  hist(b, breaks = breaks, main = paste('Histogram of', cols[2]), xlab = cols[2])\n",
    "  abline(v = mean(b), lwd = 4, col = 'red')\n",
    "  par(mfrow = c(1, 1))\n",
    "}\n",
    "\n",
    "plot.hist <- function(a, maxs, mins, cols = 'difference of means', nbins = 80, p = 0.05) {\n",
    "  breaks = seq(maxs, mins, length.out = (nbins + 1))\n",
    "  hist(a, breaks = breaks, main = paste('Histogram of', cols), xlab = cols)\n",
    "  abline(v = mean(a), lwd = 4, col = 'red')\n",
    "  abline(v = 0, lwd = 4, col = 'blue')\n",
    "  abline(v = quantile(a, probs = p/2), lty = 3, col = 'red', lwd = 3)  \n",
    "  abline(v = quantile(a, probs = (1 - p/2)), lty = 3, col = 'red', lwd = 3)\n",
    "}\n",
    "\n",
    "plot.t <- function(a, b, cols = c('pop_A', 'pop_B'), nbins = 80, p = 0.05){\n",
    "  maxs = max(c(max(a), max(b)))\n",
    "  mins = min(c(min(a), min(b)))\n",
    "  par(mfrow = c(2, 1))\n",
    "  plot.hist(a, maxs, mins, cols = cols[1])\n",
    "  plot.hist(b, maxs, mins, cols = cols[2])\n",
    "  par(mfrow = c(1, 1))\n",
    "}\n",
    "\n",
    "plot.diff <- function(a, cols = 'difference of means', nbins = 80, p = 0.05){\n",
    "  maxs = max(a)\n",
    "  mins = min(a)\n",
    "  plot.hist(a, maxs, mins, cols = cols[1])\n",
    "}\n",
    "\n",
    "partitionExact <- function(dataSet, fractionOfTest = 0.3)\n",
    "{\n",
    "  random <- runif(nrow(dataSet))\n",
    "  threshold <- quantile(random, fractionOfTest)\n",
    "  testFlag <- random < threshold\n",
    "  testingData <- dataSet[testFlag, ]\n",
    "  trainingData <- dataSet[!testFlag, ]\n",
    "  dataSetSplit <- list(trainingData=trainingData, testingData=testingData)\n",
    "  return(dataSetSplit)\n",
    "}"
   ]
  },
  {
   "cell_type": "code",
   "execution_count": 2,
   "metadata": {
    "collapsed": false
   },
   "outputs": [
    {
     "data": {
      "text/html": [
       "<ol class=list-inline>\n",
       "\t<li>1010</li>\n",
       "\t<li>150</li>\n",
       "</ol>\n"
      ],
      "text/latex": [
       "\\begin{enumerate*}\n",
       "\\item 1010\n",
       "\\item 150\n",
       "\\end{enumerate*}\n"
      ],
      "text/markdown": [
       "1. 1010\n",
       "2. 150\n",
       "\n",
       "\n"
      ],
      "text/plain": [
       "[1] 1010  150"
      ]
     },
     "metadata": {},
     "output_type": "display_data"
    },
    {
     "data": {
      "text/html": [
       "<table>\n",
       "<thead><tr><th scope=col>Music</th><th scope=col>Slow.songs.or.fast.songs</th><th scope=col>Dance</th><th scope=col>Folk</th><th scope=col>Country</th><th scope=col>Classical.music</th><th scope=col>Musical</th><th scope=col>Pop</th><th scope=col>Rock</th><th scope=col>Metal.or.Hardrock</th><th scope=col>...</th><th scope=col>Age</th><th scope=col>Height</th><th scope=col>Weight</th><th scope=col>Number.of.siblings</th><th scope=col>Gender</th><th scope=col>Left...right.handed</th><th scope=col>Education</th><th scope=col>Only.child</th><th scope=col>Village...town</th><th scope=col>House...block.of.flats</th></tr></thead>\n",
       "<tbody>\n",
       "\t<tr><td>5                      </td><td>3                      </td><td>2                      </td><td>1                      </td><td>2                      </td><td>2                      </td><td>1                      </td><td>5                      </td><td>5                      </td><td>1                      </td><td>...                    </td><td>20                     </td><td>163                    </td><td>48                     </td><td>1                      </td><td>female                 </td><td>right handed           </td><td>college/bachelor degree</td><td>no                     </td><td>village                </td><td>block of flats         </td></tr>\n",
       "\t<tr><td>4                      </td><td>4                      </td><td>2                      </td><td>1                      </td><td>1                      </td><td>1                      </td><td>2                      </td><td>3                      </td><td>5                      </td><td>4                      </td><td>...                    </td><td>19                     </td><td>163                    </td><td>58                     </td><td>2                      </td><td>female                 </td><td>right handed           </td><td>college/bachelor degree</td><td>no                     </td><td>city                   </td><td>block of flats         </td></tr>\n",
       "\t<tr><td>5                      </td><td>5                      </td><td>2                      </td><td>2                      </td><td>3                      </td><td>4                      </td><td>5                      </td><td>3                      </td><td>5                      </td><td>3                      </td><td>...                    </td><td>20                     </td><td>176                    </td><td>67                     </td><td>2                      </td><td>female                 </td><td>right handed           </td><td>secondary school       </td><td>no                     </td><td>city                   </td><td>block of flats         </td></tr>\n",
       "\t<tr><td>5                      </td><td>3                      </td><td>2                      </td><td>1                      </td><td>1                      </td><td>1                      </td><td>1                      </td><td>2                      </td><td>2                      </td><td>1                      </td><td>...                    </td><td>22                     </td><td>172                    </td><td>59                     </td><td>1                      </td><td>female                 </td><td>right handed           </td><td>college/bachelor degree</td><td>yes                    </td><td>city                   </td><td>house/bungalow         </td></tr>\n",
       "\t<tr><td>5                      </td><td>3                      </td><td>4                      </td><td>3                      </td><td>2                      </td><td>4                      </td><td>3                      </td><td>5                      </td><td>3                      </td><td>1                      </td><td>...                    </td><td>20                     </td><td>170                    </td><td>59                     </td><td>1                      </td><td>female                 </td><td>right handed           </td><td>secondary school       </td><td>no                     </td><td>village                </td><td>house/bungalow         </td></tr>\n",
       "\t<tr><td>5                      </td><td>3                      </td><td>2                      </td><td>3                      </td><td>2                      </td><td>3                      </td><td>3                      </td><td>2                      </td><td>5                      </td><td>5                      </td><td>...                    </td><td>20                     </td><td>186                    </td><td>77                     </td><td>1                      </td><td>male                   </td><td>right handed           </td><td>secondary school       </td><td>no                     </td><td>city                   </td><td>block of flats         </td></tr>\n",
       "</tbody>\n",
       "</table>\n"
      ],
      "text/latex": [
       "\\begin{tabular}{r|llllllllllllllllllllllllllllllllllllllllllllllllllllllllllllllllllllllllllllllllllllllllllllllllllllllllllllllllllllllllllllllllllllllllllllllllllllll}\n",
       " Music & Slow.songs.or.fast.songs & Dance & Folk & Country & Classical.music & Musical & Pop & Rock & Metal.or.Hardrock & ... & Age & Height & Weight & Number.of.siblings & Gender & Left...right.handed & Education & Only.child & Village...town & House...block.of.flats\\\\\n",
       "\\hline\n",
       "\t 5                       & 3                       & 2                       & 1                       & 2                       & 2                       & 1                       & 5                       & 5                       & 1                       & ...                     & 20                      & 163                     & 48                      & 1                       & female                  & right handed            & college/bachelor degree & no                      & village                 & block of flats         \\\\\n",
       "\t 4                       & 4                       & 2                       & 1                       & 1                       & 1                       & 2                       & 3                       & 5                       & 4                       & ...                     & 19                      & 163                     & 58                      & 2                       & female                  & right handed            & college/bachelor degree & no                      & city                    & block of flats         \\\\\n",
       "\t 5                       & 5                       & 2                       & 2                       & 3                       & 4                       & 5                       & 3                       & 5                       & 3                       & ...                     & 20                      & 176                     & 67                      & 2                       & female                  & right handed            & secondary school        & no                      & city                    & block of flats         \\\\\n",
       "\t 5                       & 3                       & 2                       & 1                       & 1                       & 1                       & 1                       & 2                       & 2                       & 1                       & ...                     & 22                      & 172                     & 59                      & 1                       & female                  & right handed            & college/bachelor degree & yes                     & city                    & house/bungalow         \\\\\n",
       "\t 5                       & 3                       & 4                       & 3                       & 2                       & 4                       & 3                       & 5                       & 3                       & 1                       & ...                     & 20                      & 170                     & 59                      & 1                       & female                  & right handed            & secondary school        & no                      & village                 & house/bungalow         \\\\\n",
       "\t 5                       & 3                       & 2                       & 3                       & 2                       & 3                       & 3                       & 2                       & 5                       & 5                       & ...                     & 20                      & 186                     & 77                      & 1                       & male                    & right handed            & secondary school        & no                      & city                    & block of flats         \\\\\n",
       "\\end{tabular}\n"
      ],
      "text/markdown": [
       "\n",
       "Music | Slow.songs.or.fast.songs | Dance | Folk | Country | Classical.music | Musical | Pop | Rock | Metal.or.Hardrock | ... | Age | Height | Weight | Number.of.siblings | Gender | Left...right.handed | Education | Only.child | Village...town | House...block.of.flats | \n",
       "|---|---|---|---|---|---|\n",
       "| 5                       | 3                       | 2                       | 1                       | 2                       | 2                       | 1                       | 5                       | 5                       | 1                       | ...                     | 20                      | 163                     | 48                      | 1                       | female                  | right handed            | college/bachelor degree | no                      | village                 | block of flats          | \n",
       "| 4                       | 4                       | 2                       | 1                       | 1                       | 1                       | 2                       | 3                       | 5                       | 4                       | ...                     | 19                      | 163                     | 58                      | 2                       | female                  | right handed            | college/bachelor degree | no                      | city                    | block of flats          | \n",
       "| 5                       | 5                       | 2                       | 2                       | 3                       | 4                       | 5                       | 3                       | 5                       | 3                       | ...                     | 20                      | 176                     | 67                      | 2                       | female                  | right handed            | secondary school        | no                      | city                    | block of flats          | \n",
       "| 5                       | 3                       | 2                       | 1                       | 1                       | 1                       | 1                       | 2                       | 2                       | 1                       | ...                     | 22                      | 172                     | 59                      | 1                       | female                  | right handed            | college/bachelor degree | yes                     | city                    | house/bungalow          | \n",
       "| 5                       | 3                       | 4                       | 3                       | 2                       | 4                       | 3                       | 5                       | 3                       | 1                       | ...                     | 20                      | 170                     | 59                      | 1                       | female                  | right handed            | secondary school        | no                      | village                 | house/bungalow          | \n",
       "| 5                       | 3                       | 2                       | 3                       | 2                       | 3                       | 3                       | 2                       | 5                       | 5                       | ...                     | 20                      | 186                     | 77                      | 1                       | male                    | right handed            | secondary school        | no                      | city                    | block of flats          | \n",
       "\n",
       "\n"
      ],
      "text/plain": [
       "  Music Slow.songs.or.fast.songs Dance Folk Country Classical.music Musical Pop\n",
       "1 5     3                        2     1    2       2               1       5  \n",
       "2 4     4                        2     1    1       1               2       3  \n",
       "3 5     5                        2     2    3       4               5       3  \n",
       "4 5     3                        2     1    1       1               1       2  \n",
       "5 5     3                        4     3    2       4               3       5  \n",
       "6 5     3                        2     3    2       3               3       2  \n",
       "  Rock Metal.or.Hardrock ... Age Height Weight Number.of.siblings Gender\n",
       "1 5    1                 ... 20  163    48     1                  female\n",
       "2 5    4                 ... 19  163    58     2                  female\n",
       "3 5    3                 ... 20  176    67     2                  female\n",
       "4 2    1                 ... 22  172    59     1                  female\n",
       "5 3    1                 ... 20  170    59     1                  female\n",
       "6 5    5                 ... 20  186    77     1                  male  \n",
       "  Left...right.handed Education               Only.child Village...town\n",
       "1 right handed        college/bachelor degree no         village       \n",
       "2 right handed        college/bachelor degree no         city          \n",
       "3 right handed        secondary school        no         city          \n",
       "4 right handed        college/bachelor degree yes        city          \n",
       "5 right handed        secondary school        no         village       \n",
       "6 right handed        secondary school        no         city          \n",
       "  House...block.of.flats\n",
       "1 block of flats        \n",
       "2 block of flats        \n",
       "3 block of flats        \n",
       "4 house/bungalow        \n",
       "5 house/bungalow        \n",
       "6 block of flats        "
      ]
     },
     "metadata": {},
     "output_type": "display_data"
    }
   ],
   "source": [
    "read.people = function(file = 'responses.csv'){\n",
    "  ## Read the csv file\n",
    "  people <- read.csv(file, header = TRUE, \n",
    "                         stringsAsFactors = FALSE)\n",
    "}\n",
    "\n",
    "people <- read.people()\n",
    "\n",
    "dim(people)\n",
    "head(people)\n",
    "\n",
    "## make groups of the features\n",
    "names = colnames(people) \n",
    "hobbies <-names[32:63]\n",
    "habbits <-names[74:76]\n",
    "scare <-names[64:73]\n",
    "science <-names[32:46]\n",
    "\n",
    "## Change na to 0\n",
    "people[scare][is.na(people[scare])] <- 0\n",
    "people[science][is.na(people[science])] <- 0\n",
    "\n",
    "## Reduce dimenstion\n",
    "people['scared'] <-apply(people[scare], 1, mean)\n",
    "people['science'] <-apply(people[science], 1, mean)"
   ]
  },
  {
   "cell_type": "markdown",
   "metadata": {},
   "source": [
    "First, I would like to explore students' healthy habits. "
   ]
  },
  {
   "cell_type": "code",
   "execution_count": 3,
   "metadata": {
    "collapsed": false
   },
   "outputs": [
    {
     "name": "stderr",
     "output_type": "stream",
     "text": [
      "Loading required package: ggplot2\n",
      "Loading required package: gridExtra\n",
      "Warning message:\n",
      "\"Removed 3 rows containing non-finite values (stat_count).\""
     ]
    },
    {
     "data": {
      "image/png": "[encoded data removed]",
      "text/plain": [
       "plot without title"
      ]
     },
     "metadata": {},
     "output_type": "display_data"
    }
   ],
   "source": [
    "require(ggplot2) \n",
    "require(gridExtra)\n",
    "options(repr.plot.width=8, repr.plot.height=4)\n",
    "\n",
    "## Look into health habbits\n",
    "p1 = ggplot(people, aes(x=Healthy.eating)) + \n",
    "  geom_bar(na.action(na.omit), colour = \"darkblue\", fill = \"white\") + \n",
    "  theme(axis.text.x = element_text(angle = 90, hjust = 1)) +\n",
    "    ylab(\"People\") + xlab(\"Healthy eating\")\n",
    "\n",
    "p2 = ggplot(subset(people, Smoking !=''), aes(x=Smoking)) + \n",
    "  geom_bar(colour = \"darkblue\", fill = \"white\") + \n",
    "  theme(axis.text.x = element_text(angle = 90, hjust = 1)) + \n",
    "    ylab(\"People\") + xlab(\"Smoking\")\n",
    "\n",
    "p3 = ggplot(subset(people, Alcohol !=''), aes(x=Alcohol)) + \n",
    "  geom_bar(colour = \"darkblue\", fill = \"white\") + \n",
    "  theme(axis.text.x = element_text(angle = 90, hjust = 1)) +\n",
    "    ylab(\"People\") + xlab(\"Alcohol\")\n",
    "\n",
    "grid.arrange(p1, p2, p3, ncol = 3)"
   ]
  },
  {
   "cell_type": "markdown",
   "metadata": {},
   "source": [
    "From these histograms we can see that:\n",
    "\n",
    "- There are less people who eat very healthy than people who eat don't healthy at all. \n",
    "- The main mass of the students are tried smoking, social drinker and think about what are they eating for some extent. \n",
    "- There are more people who drink a lot than who never drink. \n",
    "\n",
    "So from these observetions I conclude that young people still don't think about their health too much. \n",
    "\n",
    "Next let's see if there any correlations with other features. "
   ]
  },
  {
   "cell_type": "code",
   "execution_count": 4,
   "metadata": {
    "collapsed": false
   },
   "outputs": [
    {
     "name": "stderr",
     "output_type": "stream",
     "text": [
      "Warning message:\n",
      "\"Removed 3 rows containing missing values (geom_point).\""
     ]
    },
    {
     "data": {},
     "metadata": {},
     "output_type": "display_data"
    },
    {
     "data": {
      "image/png": "[encoded data removed]",
      "text/plain": [
       "plot without title"
      ]
     },
     "metadata": {},
     "output_type": "display_data"
    }
   ],
   "source": [
    "#Helthy eating and academic subjects\n",
    "ggplot(people, aes(Healthy.eating, science)) + geom_point()"
   ]
  },
  {
   "cell_type": "markdown",
   "metadata": {},
   "source": [
    "I took a mean for all academic sujects to reduce dementionality. As we can see there isn't any corelations between the intention to eat healthy and the love to learn different topics.\n",
    "What about health and love for food? "
   ]
  },
  {
   "cell_type": "code",
   "execution_count": 5,
   "metadata": {
    "collapsed": false
   },
   "outputs": [
    {
     "name": "stderr",
     "output_type": "stream",
     "text": [
      "Warning message:\n",
      "\"Removed 1 rows containing non-finite values (stat_binhex).\""
     ]
    },
    {
     "data": {
      "image/png": "[encoded data removed]",
      "text/plain": [
       "plot without title"
      ]
     },
     "metadata": {},
     "output_type": "display_data"
    }
   ],
   "source": [
    "#Helthy eating and eating to survive\n",
    "p1 <- ggplot(subset(people, Healthy.eating != 0), aes(Healthy.eating, Eating.to.survive)) + stat_binhex(bins=10)\n",
    "\n",
    "#Helthy eating and worry about their health\n",
    "p2 <- ggplot(subset(people, Healthy.eating != 0), aes(Healthy.eating, Health)) + stat_binhex(bins=10)\n",
    "\n",
    "grid.arrange(p1, p2, ncol = 2)"
   ]
  },
  {
   "cell_type": "markdown",
   "metadata": {},
   "source": [
    "As we can see there aren't many people who don't like to eat and do it just to survive and it doesn't matter if these people eat healthy or not.\n",
    "Interesting that some people don't worry about health but trying to eat healthy and some worry about health but admit that prefer unhealthy food. \n",
    "What about the people who like sport?  "
   ]
  },
  {
   "cell_type": "code",
   "execution_count": 6,
   "metadata": {
    "collapsed": false
   },
   "outputs": [
    {
     "name": "stderr",
     "output_type": "stream",
     "text": [
      "Warning message:\n",
      "\"Removed 4 rows containing non-finite values (stat_binhex).\"Warning message:\n",
      "\"Removed 15 rows containing non-finite values (stat_binhex).\""
     ]
    },
    {
     "data": {
      "image/png": "[encoded data removed]",
      "text/plain": [
       "plot without title"
      ]
     },
     "metadata": {},
     "output_type": "display_data"
    }
   ],
   "source": [
    "options(repr.plot.width=8, repr.plot.height=4)\n",
    "#Helthy eating and eating to survive\n",
    "p1 <- ggplot(subset(people, Healthy.eating != 0), aes(Healthy.eating, Active.sport)) + stat_binhex(bins=10)\n",
    "\n",
    "#Helthy eating and worry about my health\n",
    "p2 <- ggplot(subset(people, Healthy.eating != 0), aes(Healthy.eating, Passive.sport)) + stat_binhex(bins=10)\n",
    "\n",
    "grid.arrange(p1, p2, ncol = 2)"
   ]
  },
  {
   "cell_type": "markdown",
   "metadata": {},
   "source": [
    "We can see many students likes sport very much and some of them think how to eat healthy. Let's compare the numbers: "
   ]
  },
  {
   "cell_type": "code",
   "execution_count": 7,
   "metadata": {
    "collapsed": false
   },
   "outputs": [
    {
     "name": "stderr",
     "output_type": "stream",
     "text": [
      "Loading required package: dplyr\n",
      "\n",
      "Attaching package: 'dplyr'\n",
      "\n",
      "The following object is masked from 'package:gridExtra':\n",
      "\n",
      "    combine\n",
      "\n",
      "The following objects are masked from 'package:stats':\n",
      "\n",
      "    filter, lag\n",
      "\n",
      "The following objects are masked from 'package:base':\n",
      "\n",
      "    intersect, setdiff, setequal, union\n",
      "\n"
     ]
    },
    {
     "data": {
      "text/html": [
       "<table>\n",
       "<thead><tr><th scope=col>Active.sport</th><th scope=col>n</th></tr></thead>\n",
       "<tbody>\n",
       "\t<tr><td>5  </td><td>318</td></tr>\n",
       "</tbody>\n",
       "</table>\n"
      ],
      "text/latex": [
       "\\begin{tabular}{r|ll}\n",
       " Active.sport & n\\\\\n",
       "\\hline\n",
       "\t 5   & 318\\\\\n",
       "\\end{tabular}\n"
      ],
      "text/markdown": [
       "\n",
       "Active.sport | n | \n",
       "|---|\n",
       "| 5   | 318 | \n",
       "\n",
       "\n"
      ],
      "text/plain": [
       "  Active.sport n  \n",
       "1 5            318"
      ]
     },
     "metadata": {},
     "output_type": "display_data"
    },
    {
     "data": {
      "text/html": [
       "<table>\n",
       "<thead><tr><th scope=col>Active.sport</th><th scope=col>Healthy.eating</th><th scope=col>n</th></tr></thead>\n",
       "<tbody>\n",
       "\t<tr><td>5 </td><td>4 </td><td>99</td></tr>\n",
       "\t<tr><td>5 </td><td>5 </td><td>30</td></tr>\n",
       "</tbody>\n",
       "</table>\n"
      ],
      "text/latex": [
       "\\begin{tabular}{r|lll}\n",
       " Active.sport & Healthy.eating & n\\\\\n",
       "\\hline\n",
       "\t 5  & 4  & 99\\\\\n",
       "\t 5  & 5  & 30\\\\\n",
       "\\end{tabular}\n"
      ],
      "text/markdown": [
       "\n",
       "Active.sport | Healthy.eating | n | \n",
       "|---|---|\n",
       "| 5  | 4  | 99 | \n",
       "| 5  | 5  | 30 | \n",
       "\n",
       "\n"
      ],
      "text/plain": [
       "  Active.sport Healthy.eating n \n",
       "1 5            4              99\n",
       "2 5            5              30"
      ]
     },
     "metadata": {},
     "output_type": "display_data"
    },
    {
     "data": {
      "text/html": [
       "<table>\n",
       "<thead><tr><th scope=col>Reading</th><th scope=col>n</th></tr></thead>\n",
       "<tbody>\n",
       "\t<tr><td>5  </td><td>277</td></tr>\n",
       "</tbody>\n",
       "</table>\n"
      ],
      "text/latex": [
       "\\begin{tabular}{r|ll}\n",
       " Reading & n\\\\\n",
       "\\hline\n",
       "\t 5   & 277\\\\\n",
       "\\end{tabular}\n"
      ],
      "text/markdown": [
       "\n",
       "Reading | n | \n",
       "|---|\n",
       "| 5   | 277 | \n",
       "\n",
       "\n"
      ],
      "text/plain": [
       "  Reading n  \n",
       "1 5       277"
      ]
     },
     "metadata": {},
     "output_type": "display_data"
    },
    {
     "data": {
      "text/html": [
       "<table>\n",
       "<thead><tr><th scope=col>Reading</th><th scope=col>Healthy.eating</th><th scope=col>n</th></tr></thead>\n",
       "<tbody>\n",
       "\t<tr><td>5 </td><td>4 </td><td>77</td></tr>\n",
       "\t<tr><td>5 </td><td>5 </td><td>15</td></tr>\n",
       "</tbody>\n",
       "</table>\n"
      ],
      "text/latex": [
       "\\begin{tabular}{r|lll}\n",
       " Reading & Healthy.eating & n\\\\\n",
       "\\hline\n",
       "\t 5  & 4  & 77\\\\\n",
       "\t 5  & 5  & 15\\\\\n",
       "\\end{tabular}\n"
      ],
      "text/markdown": [
       "\n",
       "Reading | Healthy.eating | n | \n",
       "|---|---|\n",
       "| 5  | 4  | 77 | \n",
       "| 5  | 5  | 15 | \n",
       "\n",
       "\n"
      ],
      "text/plain": [
       "  Reading Healthy.eating n \n",
       "1 5       4              77\n",
       "2 5       5              15"
      ]
     },
     "metadata": {},
     "output_type": "display_data"
    },
    {
     "data": {
      "text/html": [
       "<table>\n",
       "<thead><tr><th scope=col>Cars</th><th scope=col>n</th></tr></thead>\n",
       "<tbody>\n",
       "\t<tr><td>5  </td><td>162</td></tr>\n",
       "</tbody>\n",
       "</table>\n"
      ],
      "text/latex": [
       "\\begin{tabular}{r|ll}\n",
       " Cars & n\\\\\n",
       "\\hline\n",
       "\t 5   & 162\\\\\n",
       "\\end{tabular}\n"
      ],
      "text/markdown": [
       "\n",
       "Cars | n | \n",
       "|---|\n",
       "| 5   | 162 | \n",
       "\n",
       "\n"
      ],
      "text/plain": [
       "  Cars n  \n",
       "1 5    162"
      ]
     },
     "metadata": {},
     "output_type": "display_data"
    },
    {
     "data": {
      "text/html": [
       "<table>\n",
       "<thead><tr><th scope=col>Cars</th><th scope=col>Healthy.eating</th><th scope=col>n</th></tr></thead>\n",
       "<tbody>\n",
       "\t<tr><td>5 </td><td>4 </td><td>36</td></tr>\n",
       "\t<tr><td>5 </td><td>5 </td><td>13</td></tr>\n",
       "</tbody>\n",
       "</table>\n"
      ],
      "text/latex": [
       "\\begin{tabular}{r|lll}\n",
       " Cars & Healthy.eating & n\\\\\n",
       "\\hline\n",
       "\t 5  & 4  & 36\\\\\n",
       "\t 5  & 5  & 13\\\\\n",
       "\\end{tabular}\n"
      ],
      "text/markdown": [
       "\n",
       "Cars | Healthy.eating | n | \n",
       "|---|---|\n",
       "| 5  | 4  | 36 | \n",
       "| 5  | 5  | 13 | \n",
       "\n",
       "\n"
      ],
      "text/plain": [
       "  Cars Healthy.eating n \n",
       "1 5    4              36\n",
       "2 5    5              13"
      ]
     },
     "metadata": {},
     "output_type": "display_data"
    }
   ],
   "source": [
    "require(dplyr)\n",
    "df = people %>% filter(Active.sport == 5) %>% count(Active.sport)\n",
    "df\n",
    "df = people %>% filter(Active.sport ==5 &  (Healthy.eating ==5 |  Healthy.eating ==4)) %>%\n",
    "  count(Active.sport, Healthy.eating)\n",
    "df\n",
    "df = people %>% filter(Reading == 5) %>% count(Reading)\n",
    "df\n",
    "df = people %>% filter(Reading ==5 & (Healthy.eating ==5 |  Healthy.eating ==4)) %>%\n",
    "  count(Reading, Healthy.eating)\n",
    "df\n",
    "df = people %>% filter(Cars == 5) %>% count(Cars)\n",
    "df\n",
    "df = people %>% filter(Cars ==5 & (Healthy.eating ==5 |  Healthy.eating ==4)) %>%\n",
    "  count(Cars, Healthy.eating)\n",
    "df"
   ]
  },
  {
   "cell_type": "markdown",
   "metadata": {},
   "source": [
    "We can see that 40% of people who are very interested in active sport live a very healthy lifestyle, in comparison only 33% of reading people and 30% of people who interested in cars think strongly about healthy living.    \n",
    "\n",
    "Next, I would like to see relationship between smoking, alcohol and several other preferences.  "
   ]
  },
  {
   "cell_type": "code",
   "execution_count": 8,
   "metadata": {
    "collapsed": false
   },
   "outputs": [
    {
     "name": "stderr",
     "output_type": "stream",
     "text": [
      "Warning message:\n",
      "\"Removed 4 rows containing non-finite values (stat_bin).\""
     ]
    },
    {
     "data": {},
     "metadata": {},
     "output_type": "display_data"
    },
    {
     "data": {
      "image/png": "[encoded data removed]",
      "text/plain": [
       "plot without title"
      ]
     },
     "metadata": {},
     "output_type": "display_data"
    }
   ],
   "source": [
    "ggplot(subset(people, (Alcohol !='' & Smoking != '')), aes(Active.sport)) + \n",
    "  geom_histogram(binwidth = 0.5, colour = \"darkblue\", fill = \"white\") + \n",
    "  facet_grid(Alcohol ~ Smoking) +\n",
    "  ylab('People') + xlab('Interest in Active Sports') +   \n",
    "  ggtitle('Histogram of People Interested in Active Sports \\n Conditioning on Smoking and Alcohol')"
   ]
  },
  {
   "cell_type": "code",
   "execution_count": 9,
   "metadata": {
    "collapsed": false
   },
   "outputs": [
    {
     "name": "stderr",
     "output_type": "stream",
     "text": [
      "Warning message:\n",
      "\"Removed 3 rows containing non-finite values (stat_bin).\""
     ]
    },
    {
     "data": {},
     "metadata": {},
     "output_type": "display_data"
    },
    {
     "data": {
      "image/png": "[encoded data removed]",
      "text/plain": [
       "plot without title"
      ]
     },
     "metadata": {},
     "output_type": "display_data"
    }
   ],
   "source": [
    "ggplot(subset(people, (Alcohol !='' & Smoking != '')), aes(Dancing)) + \n",
    "  geom_histogram(binwidth = 0.5, colour = \"darkblue\", fill = \"white\") + \n",
    "  facet_grid(Alcohol ~ Smoking) +\n",
    "  ylab('People') + xlab('Interest in Dancing') +   \n",
    "  ggtitle('Histogram of People Interested in Dancing \\n Conditioning on Smoking and Alcohol')"
   ]
  },
  {
   "cell_type": "code",
   "execution_count": 10,
   "metadata": {
    "collapsed": false
   },
   "outputs": [
    {
     "name": "stderr",
     "output_type": "stream",
     "text": [
      "Warning message:\n",
      "\"Removed 3 rows containing non-finite values (stat_bin).\""
     ]
    },
    {
     "data": {},
     "metadata": {},
     "output_type": "display_data"
    },
    {
     "data": {
      "image/png": "[encoded data removed]",
      "text/plain": [
       "plot without title"
      ]
     },
     "metadata": {},
     "output_type": "display_data"
    }
   ],
   "source": [
    "ggplot(subset(people, (Alcohol !='' & Smoking != '')), aes(Fun.with.friends)) + \n",
    "  geom_histogram(binwidth = 0.5, colour = \"darkblue\", fill = \"white\") + \n",
    "  facet_grid(Alcohol ~ Smoking) +\n",
    "  ylab('People') + xlab('Interest in Having Fun with Friends') +   \n",
    "  ggtitle('Histogram of People Interested in Having Fun with Friends \\n Conditioning on Smoking and Alcohol')"
   ]
  },
  {
   "cell_type": "markdown",
   "metadata": {},
   "source": [
    "From these plots we can make several conclusions:\n",
    " - Love to active sports doesn't stop people from drinking ether socially or a lot.  \n",
    " - The most popular group of people are social drinker who tried smoking.\n",
    " - Many young people don't like dancing at all. \n",
    " - Everybody likes to have fun with friends, there isn't a single person who strongly disagree to have a fun time with friends.\n",
    " - Some of people don't like to spend time with friends but still have to drink with a crowd from time to time.   "
   ]
  },
  {
   "cell_type": "code",
   "execution_count": 11,
   "metadata": {
    "collapsed": false
   },
   "outputs": [
    {
     "name": "stderr",
     "output_type": "stream",
     "text": [
      "Warning message:\n",
      "\"Removed 1 rows containing non-finite values (stat_bin).\""
     ]
    },
    {
     "data": {},
     "metadata": {},
     "output_type": "display_data"
    },
    {
     "data": {
      "image/png": "[encoded data removed]",
      "text/plain": [
       "plot without title"
      ]
     },
     "metadata": {},
     "output_type": "display_data"
    }
   ],
   "source": [
    "ggplot(subset(people, (Alcohol !='' & Smoking != '')), aes(Health)) + \n",
    "  geom_histogram(binwidth = 0.5, colour = \"darkblue\", fill = \"white\") + \n",
    "  facet_grid(Alcohol ~ Smoking) +\n",
    "   ylab('People') + xlab('Worrying about Health') +   \n",
    "  ggtitle('Histogram of People Worrying about Health \\n Conditioning on Smoking and Alcohol')"
   ]
  },
  {
   "cell_type": "code",
   "execution_count": 12,
   "metadata": {
    "collapsed": false
   },
   "outputs": [
    {
     "name": "stderr",
     "output_type": "stream",
     "text": [
      "Warning message:\n",
      "\"Removed 1 rows containing non-finite values (stat_bin).\""
     ]
    },
    {
     "data": {},
     "metadata": {},
     "output_type": "display_data"
    },
    {
     "data": {
      "image/png": "[encoded data removed]",
      "text/plain": [
       "plot without title"
      ]
     },
     "metadata": {},
     "output_type": "display_data"
    }
   ],
   "source": [
    "ggplot(subset(people, (Alcohol !='' & Smoking != '')), aes(Healthy.eating)) + \n",
    "  geom_histogram(binwidth = 0.5, colour = \"darkblue\", fill = \"white\") + \n",
    "  facet_grid(Alcohol ~ Smoking) +\n",
    "  ylab('People') + xlab('Healthy Lifestyle') +   \n",
    "  ggtitle('Histogram of People Leading Healthy Lifestyle \\n Conditioning on Smoking and Alcohol')"
   ]
  },
  {
   "cell_type": "markdown",
   "metadata": {},
   "source": [
    "We can see that:\n",
    " - Even people who smoke and drink a lot worry about their health, some of them strongly. \n",
    " - Current smokers worry about their health but admit that don't prefer a very healthy diet. \n",
    " \n",
    " \n",
    " Next, I've decided to see if there is a **correlation between how many phobias people have and which hand is dominant**.\n",
    " First, let's see how scared young people in general and how many right- and left-handed people in our group.  "
   ]
  },
  {
   "cell_type": "code",
   "execution_count": 13,
   "metadata": {
    "collapsed": false
   },
   "outputs": [
    {
     "name": "stderr",
     "output_type": "stream",
     "text": [
      "`stat_bin()` using `bins = 30`. Pick better value with `binwidth`.\n"
     ]
    },
    {
     "data": {},
     "metadata": {},
     "output_type": "display_data"
    },
    {
     "data": {
      "text/html": [
       "2.55415841584158"
      ],
      "text/latex": [
       "2.55415841584158"
      ],
      "text/markdown": [
       "2.55415841584158"
      ],
      "text/plain": [
       "[1] 2.554158"
      ]
     },
     "metadata": {},
     "output_type": "display_data"
    },
    {
     "data": {},
     "metadata": {},
     "output_type": "display_data"
    },
    {
     "data": {
      "image/png": "[encoded data removed]",
      "text/plain": [
       "plot without title"
      ]
     },
     "metadata": {},
     "output_type": "display_data"
    },
    {
     "data": {
      "image/png": "[encoded data removed]",
      "text/plain": [
       "plot without title"
      ]
     },
     "metadata": {},
     "output_type": "display_data"
    }
   ],
   "source": [
    "## How scared young people in general\n",
    "ggplot(people, aes(scared)) + geom_histogram(colour = \"darkblue\", fill = \"white\") + \n",
    "  ggtitle('How Many Phobias People Have') + xlab('Scared') + ylab('People')\n",
    "\n",
    "mean(people$scared)\n",
    "\n",
    "## How may right and left handed people\n",
    "ggplot(subset(people, Left...right.handed !=''), aes(x=Left...right.handed)) + \n",
    "  geom_bar(colour = \"darkblue\", fill = \"white\") + \n",
    "  theme(axis.text.x = element_text(angle = 90, hjust = 1))  + xlab('Right-Handed vs. Left-Handed') + ylab('People')"
   ]
  },
  {
   "cell_type": "markdown",
   "metadata": {},
   "source": [
    "From this plots we can see that young people don't have many phobias, the mean is shifted to the left. \n",
    "And we see that there are a lot more people who have a dominant right hand. Let's see how scared people by groups."
   ]
  },
  {
   "cell_type": "code",
   "execution_count": 14,
   "metadata": {
    "collapsed": false
   },
   "outputs": [
    {
     "name": "stderr",
     "output_type": "stream",
     "text": [
      "Loading required package: boot\n",
      "Simple Bootstrap Routines (1.1-3 2008-04-30)\n",
      "Loading required package: repr\n"
     ]
    },
    {
     "data": {
      "image/png": "[encoded data removed]",
      "text/plain": [
       "Plot with title \"Histogram of Left-handed\""
      ]
     },
     "metadata": {},
     "output_type": "display_data"
    }
   ],
   "source": [
    "library(HistData)\n",
    "library(resample)\n",
    "library(simpleboot)\n",
    "require(repr)\n",
    "\n",
    "r.handed = people[people$Left...right.handed == 'right handed',]\n",
    "l.handed = people[people$Left...right.handed == 'left handed',]\n",
    "options(repr.plot.width=8, repr.plot.height=8)\n",
    "plot.dists(r.handed$scared, l.handed$scared, cols = c('Right-handed', 'Left-handed'), nbins = 20)"
   ]
  },
  {
   "cell_type": "markdown",
   "metadata": {},
   "source": [
    "We can see, that there aren't much differences between the groups, but the sample sizes are too different, so I've used the bootstrap method."
   ]
  },
  {
   "cell_type": "code",
   "execution_count": 15,
   "metadata": {
    "collapsed": false
   },
   "outputs": [
    {
     "data": {
      "image/png": "[encoded data removed]",
      "text/plain": [
       "Plot with title \"Histogram of Left-handed\""
      ]
     },
     "metadata": {},
     "output_type": "display_data"
    },
    {
     "data": {
      "image/png": "[encoded data removed]",
      "text/plain": [
       "Plot with title \"Histogram of difference of means\""
      ]
     },
     "metadata": {},
     "output_type": "display_data"
    }
   ],
   "source": [
    "## Bootstrap the mean of how scared the right-handed and left-handed people are\n",
    "mean.boot.right = one.boot(na.omit(r.handed$scared), mean, R = 100000)\n",
    "mean.boot.left = one.boot(na.omit(l.handed$scared), mean, R = 100000)\n",
    "options(repr.plot.width=8, repr.plot.height=6)\n",
    "plot.t(mean.boot.right$t, mean.boot.left$t, nbins = 80, cols = c('Right-handed', 'Left-handed'))\n",
    "\n",
    "two.boot.hand= two.boot(na.omit(r.handed$scared), na.omit(l.handed$scared), mean, R = 100000)\n",
    "options(repr.plot.width=8, repr.plot.height=4)\n",
    "plot.diff(two.boot.hand$t)\n",
    "#difference of means isn't significantly different "
   ]
  },
  {
   "cell_type": "markdown",
   "metadata": {},
   "source": [
    "The differences of mean is really close to zero, so we can conclude that the phobias are of the same level for left- and right-handed people. \n",
    "\n",
    "In the last part of the project I'll predict person's gender using some of their likes or dislikes. I took several parameters that are most likely defferent for male and female students. I created naiveBayes and glm models for predictions.    "
   ]
  },
  {
   "cell_type": "code",
   "execution_count": 16,
   "metadata": {
    "collapsed": false
   },
   "outputs": [
    {
     "name": "stderr",
     "output_type": "stream",
     "text": [
      "Loading required package: e1071\n",
      "Warning message in data.matrix(newdata):\n",
      "\"NAs introduced by coercion\"Warning message in data.matrix(newdata):\n",
      "\"NAs introduced by coercion\"Warning message in data.matrix(newdata):\n",
      "\"NAs introduced by coercion\"Warning message in data.matrix(newdata):\n",
      "\"NAs introduced by coercion\"Warning message in data.matrix(newdata):\n",
      "\"NAs introduced by coercion\"Warning message in data.matrix(newdata):\n",
      "\"NAs introduced by coercion\"Warning message in data.matrix(newdata):\n",
      "\"NAs introduced by coercion\"Warning message in data.matrix(newdata):\n",
      "\"NAs introduced by coercion\"Warning message in data.matrix(newdata):\n",
      "\"NAs introduced by coercion\"Warning message in data.matrix(newdata):\n",
      "\"NAs introduced by coercion\"Warning message in data.matrix(newdata):\n",
      "\"NAs introduced by coercion\""
     ]
    },
    {
     "name": "stdout",
     "output_type": "stream",
     "text": [
      "[1] \" \"\n",
      "[1] \" -------------------------------- \"\n",
      "[1] \"Confusion Matrix Naive Bayes\"\n",
      "         Actual\n",
      "Predicted female male\n",
      "   female    206   31\n",
      "   male       31  134\n",
      "accuracy = 0.845771144278607 \n",
      "precision = 0.869198 \n",
      "recall = 0.869198312236287"
     ]
    }
   ],
   "source": [
    "## Split data set to train set and test set\n",
    "peopleSplit <- partitionExact(subset(people, Gender != ''), fractionOfTest=0.4)\n",
    "testPeople <- peopleSplit$testingData\n",
    "trainPeople <-peopleSplit$trainingData\n",
    "\n",
    "## Formula for creating a model\n",
    "formula <- Gender ~ Latino + Musical + Romantic + War + Shopping + Cars\n",
    "\n",
    "require(e1071)\n",
    "## Create a model\n",
    "nbModel<-naiveBayes(formula = formula, data=trainPeople, na.action = na.omit)\n",
    "## Predict person's gender\n",
    "predictedProbabilities.NB <- predict(nbModel, newdata = testPeople, type = \"raw\")\n",
    "\n",
    "## Confusinon matrix\n",
    "predicted.NB <- ifelse(predictedProbabilities.NB[,1] > 0.5, \"female\", \"male\")\n",
    "print(\" \")\n",
    "print(\" -------------------------------- \")\n",
    "print(\"Confusion Matrix Naive Bayes\")\n",
    "\n",
    "## Create a table to compare predicted values to actual values\n",
    "t <- table(predicted.NB,testPeople$Gender,dnn=c(\"Predicted\",\"Actual\"))\n",
    "print(t)\n",
    "cat(paste('accuracy =', as.character((t[1] + t[4])/(t[1] + t[4] + t[2] + t[3])), '\\n'))      \n",
    "cat(paste('precision =', as.character(signif(t[1]/(t[1] + t[2])), digits = 2)), '\\n')     \n",
    "cat(paste('recall =', as.character(t[1]/(t[1] + t[3]))))"
   ]
  },
  {
   "cell_type": "markdown",
   "metadata": {
    "collapsed": true
   },
   "source": [
    "Next, logistic regression model.  "
   ]
  },
  {
   "cell_type": "code",
   "execution_count": 17,
   "metadata": {
    "collapsed": false
   },
   "outputs": [
    {
     "name": "stdout",
     "output_type": "stream",
     "text": [
      "[1] \" \"\n",
      "[1] \" -------------------------------- \"\n",
      "[1] \"Confusion Matrix for Logistic Regression\"\n",
      "         Actual\n",
      "Predicted   0   1\n",
      "   Female 202  44\n",
      "   Male    26 127\n",
      "accuracy = 0.824561403508772 \n",
      "precision = 0.885965 \n",
      "recall = 0.821138211382114"
     ]
    }
   ],
   "source": [
    "people <- read.people()\n",
    "people$Gender <- ifelse(people$Gender == 'male', 1, 0)\n",
    "peopleSplit <- partitionExact(subset(people, Gender != ''), fractionOfTest=0.4)\n",
    "testPeople <- peopleSplit$testingData\n",
    "trainPeople <-peopleSplit$trainingData\n",
    "\n",
    "## Create logistic regression\n",
    "glmModel <- glm(formula = formula, family = \"binomial\", data = trainPeople)\n",
    "## Predict person's gender\n",
    "predictedProbabilities.GLM <- predict(glmModel, newdata = testPeople, type = \"response\")\n",
    "\n",
    "predicted.GLM <- ifelse(predictedProbabilities.GLM > 0.5, \"Male\", \"Female\")\n",
    "print(\" \")\n",
    "print(\" -------------------------------- \")\n",
    "print(\"Confusion Matrix for Logistic Regression\")\n",
    "\n",
    "## Create a table to compare predicted values to actual values\n",
    "t <- table(predicted.GLM,testPeople$Gender,dnn=c(\"Predicted\",\"Actual\"))\n",
    "print(t)\n",
    "cat(paste('accuracy =', as.character((t[1] + t[4])/(t[1] + t[4] + t[2] + t[3])), '\\n'))      \n",
    "cat(paste('precision =', as.character(signif(t[1]/(t[1] + t[2])), digits = 2)), '\\n')     \n",
    "cat(paste('recall =', as.character(t[1]/(t[1] + t[3]))))"
   ]
  },
  {
   "cell_type": "markdown",
   "metadata": {},
   "source": [
    "After analizing confusion matrix, accuracy,percision and recall of both predictions we can tell that both models works quite well. And from these numbers it's hard to tell that one model noticebly better than the other. \n",
    "\n",
    "## Conclusion. \n",
    "In this project I've explored and visualized data to look into the data relashionsip. I've used the bootstrap method to compare compare the data. Finally, I've created two models to predict person's gender using several features from this data set.    "
   ]
  },
  {
   "cell_type": "code",
   "execution_count": null,
   "metadata": {
    "collapsed": true
   },
   "outputs": [],
   "source": []
  }
 ],
 "metadata": {
  "anaconda-cloud": {},
  "kernelspec": {
   "display_name": "R",
   "language": "R",
   "name": "ir"
  },
  "language_info": {
   "codemirror_mode": "r",
   "file_extension": ".r",
   "mimetype": "text/x-r-source",
   "name": "R",
   "pygments_lexer": "r",
   "version": "3.3.2"
  }
 },
 "nbformat": 4,
 "nbformat_minor": 1
}
